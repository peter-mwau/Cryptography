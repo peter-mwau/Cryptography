{
 "cells": [
  {
   "cell_type": "code",
   "execution_count": 1,
   "id": "32a71dad",
   "metadata": {},
   "outputs": [],
   "source": [
    "from cryptography.fernet import Fernet"
   ]
  },
  {
   "cell_type": "code",
   "execution_count": 2,
   "id": "6b3bd7f3",
   "metadata": {},
   "outputs": [],
   "source": [
    "key = Fernet.generate_key()\n",
    "Fernet_obj= Fernet(key)"
   ]
  },
  {
   "cell_type": "code",
   "execution_count": 3,
   "id": "891ac71a",
   "metadata": {},
   "outputs": [],
   "source": [
    "Encry_text = Fernet_obj.encrypt(b\"I am a secret! I will get encrypted into something you will never understand\")\n",
    "Org_text= Fernet_obj.decrypt(Encry_text)"
   ]
  },
  {
   "cell_type": "code",
   "execution_count": 5,
   "id": "7ffd60fb",
   "metadata": {},
   "outputs": [
    {
     "name": "stdout",
     "output_type": "stream",
     "text": [
      "The Encrypted text is:  b'gAAAAABkbc4Bba1DRQPOl8seqPeJFWCJyisq9vN3E3yK6i9dcQ8eavj3SxtA7L1_pBdEMxKdVz8unHN4leRG76PNj4cbDrYAtOaoqideUFFtz3i5tdAvo6ljGA3_XG-yK53qKVUz14gJX67gk0s4onI-KbCiPUtaLXj0CzbENRbyoGc5PkKoyrc='\n",
      "\n",
      "The Decrypted text is:  b'I am a secret! I will get encrypted into something you will never understand'\n"
     ]
    }
   ],
   "source": [
    "print(\"The Encrypted text is: \", Encry_text)\n",
    "print(\"\\nThe Decrypted text is: \",Org_text)"
   ]
  },
  {
   "cell_type": "code",
   "execution_count": null,
   "id": "7130fba4",
   "metadata": {},
   "outputs": [],
   "source": []
  }
 ],
 "metadata": {
  "kernelspec": {
   "display_name": "Python 3 (ipykernel)",
   "language": "python",
   "name": "python3"
  },
  "language_info": {
   "codemirror_mode": {
    "name": "ipython",
    "version": 3
   },
   "file_extension": ".py",
   "mimetype": "text/x-python",
   "name": "python",
   "nbconvert_exporter": "python",
   "pygments_lexer": "ipython3",
   "version": "3.10.6"
  }
 },
 "nbformat": 4,
 "nbformat_minor": 5
}
